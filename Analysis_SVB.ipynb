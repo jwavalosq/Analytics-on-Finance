{
  "nbformat": 4,
  "nbformat_minor": 0,
  "metadata": {
    "colab": {
      "provenance": [],
      "authorship_tag": "ABX9TyOFsA3hCpyLEHldZ2YiBk3S",
      "include_colab_link": true
    },
    "kernelspec": {
      "name": "python3",
      "display_name": "Python 3"
    },
    "language_info": {
      "name": "python"
    }
  },
  "cells": [
    {
      "cell_type": "markdown",
      "metadata": {
        "id": "view-in-github",
        "colab_type": "text"
      },
      "source": [
        "<a href=\"https://colab.research.google.com/github/jwavalosq/Analytics-on-Finance/blob/main/Analysis_SVB.ipynb\" target=\"_parent\"><img src=\"https://colab.research.google.com/assets/colab-badge.svg\" alt=\"Open In Colab\"/></a>"
      ]
    },
    {
      "cell_type": "markdown",
      "source": [
        "**Context**\n",
        "\n",
        "Silicon Valley Bank (SVB) is an specialized high-tech commercial bank in Santa Clara, California. It primarily serves technology, life sciences, and venture capital clients.\n",
        "\n",
        "In March 2023, SVB was shut down by the by the California Department of Financial Protection and Innovation after its investments greatly decreased in value and its depositors withdrew large amounts of money, among other factors.\n",
        "\n",
        "But, how do we analyze what happened to SVB through data analytics and descriptive statistics that will give us conclusions regarding the collapse of one of the most important financial institutions among high-tech startups in Silicon Valley and California.\n",
        "\n",
        "\n"
      ],
      "metadata": {
        "id": "jMkiB0xGz7n1"
      }
    },
    {
      "cell_type": "code",
      "source": [],
      "metadata": {
        "id": "5D541s1Dz7TG"
      },
      "execution_count": null,
      "outputs": []
    }
  ]
}